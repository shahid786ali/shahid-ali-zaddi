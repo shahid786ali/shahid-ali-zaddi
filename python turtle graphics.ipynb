{
 "cells": [
  {
   "cell_type": "code",
   "execution_count": 1,
   "id": "b96da82b",
   "metadata": {},
   "outputs": [],
   "source": [
    "import turtle as t\n"
   ]
  },
  {
   "cell_type": "code",
   "execution_count": 2,
   "id": "a92de3eb",
   "metadata": {},
   "outputs": [],
   "source": [
    "t.bgcolor('black')\n",
    "t.color('red')\n",
    "t.pensize(1)\n",
    "t.speed(0)\n",
    "for i in range(150):\n",
    "    t.forward(i*6)\n",
    "    t.right(200)\n",
    "    "
   ]
  },
  {
   "cell_type": "code",
   "execution_count": null,
   "id": "08e5cefa",
   "metadata": {},
   "outputs": [],
   "source": []
  },
  {
   "cell_type": "code",
   "execution_count": null,
   "id": "24cb3abb",
   "metadata": {},
   "outputs": [],
   "source": []
  }
 ],
 "metadata": {
  "kernelspec": {
   "display_name": "Python 3",
   "language": "python",
   "name": "python3"
  },
  "language_info": {
   "codemirror_mode": {
    "name": "ipython",
    "version": 3
   },
   "file_extension": ".py",
   "mimetype": "text/x-python",
   "name": "python",
   "nbconvert_exporter": "python",
   "pygments_lexer": "ipython3",
   "version": "3.8.8"
  }
 },
 "nbformat": 4,
 "nbformat_minor": 5
}
